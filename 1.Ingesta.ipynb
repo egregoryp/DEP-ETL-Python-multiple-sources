{
 "cells": [
  {
   "cell_type": "code",
   "execution_count": 1,
   "id": "8e70e5e6-015e-48da-8750-35d3ca1da92a",
   "metadata": {
    "tags": []
   },
   "outputs": [],
   "source": [
    "from process.Extract import Extract\n",
    "# from process.Transform import Transform\n",
    "from process.Load import Load\n",
    "import pandas as pd"
   ]
  },
  {
   "cell_type": "code",
   "execution_count": 2,
   "id": "84aa25ab-ad78-49a8-8b98-e186eb06875a",
   "metadata": {
    "tags": []
   },
   "outputs": [
    {
     "name": "stdout",
     "output_type": "stream",
     "text": [
      "Extract Process\n",
      "Load Process\n"
     ]
    }
   ],
   "source": [
    "extract = Extract()\n",
    "# transform = Transform()\n",
    "load = Load()"
   ]
  },
  {
   "cell_type": "code",
   "execution_count": 3,
   "id": "1abc68e3-d906-4306-a800-0bfb04f38182",
   "metadata": {
    "tags": []
   },
   "outputs": [],
   "source": [
    "#from mySQL\n",
    "customers_df = extract.read_my_sql('retail_db', 'customers')\n",
    "orders_df = extract.read_my_sql('retail_db', 'orders')\n",
    "order_items_df = extract.read_my_sql('retail_db', 'order_items')"
   ]
  },
  {
   "cell_type": "code",
   "execution_count": 4,
   "id": "6839cc7b-1c07-4ef8-a094-bc9be2db1875",
   "metadata": {
    "tags": []
   },
   "outputs": [],
   "source": [
    "#from GCP\n",
    "products_df = extract.read_gcp_bucket('dep-etl-source-objects', 'retail/products')"
   ]
  },
  {
   "cell_type": "code",
   "execution_count": 5,
   "id": "6248c9c8-13f8-4f01-9577-a0660bd81015",
   "metadata": {
    "tags": []
   },
   "outputs": [],
   "source": [
    "#from MongoDB\n",
    "categories_df = extract.read_mongodb('retail_db', 'categories')\n",
    "departments_df =  extract.read_mongodb('retail_db', 'departments')"
   ]
  },
  {
   "cell_type": "code",
   "execution_count": 6,
   "id": "118dfe04-86b8-4815-9664-7d3b5ba38f49",
   "metadata": {
    "tags": []
   },
   "outputs": [],
   "source": [
    "# customers_df.head()\n",
    "# products_df.head()\n",
    "# categories_df.head()"
   ]
  },
  {
   "cell_type": "markdown",
   "id": "31527248-7e49-4635-aad4-45c963ff9b92",
   "metadata": {},
   "source": [
    "#### Load to Landing Zone"
   ]
  },
  {
   "cell_type": "code",
   "execution_count": 7,
   "id": "622afec6-617f-48c2-8299-14b1c485571e",
   "metadata": {
    "tags": []
   },
   "outputs": [],
   "source": [
    "#test load MongoDB\n",
    "# load.load_mongodb(customers_df, 'retail_db', 'customers_test')"
   ]
  },
  {
   "cell_type": "code",
   "execution_count": 8,
   "id": "48a93b2a-7c58-47ec-9fc4-cfbf2e02b744",
   "metadata": {
    "tags": []
   },
   "outputs": [
    {
     "name": "stdout",
     "output_type": "stream",
     "text": [
      "landing/customers Data loaded to GCP Bucket Successfully!\n",
      "landing/orders Data loaded to GCP Bucket Successfully!\n",
      "landing/order_items Data loaded to GCP Bucket Successfully!\n",
      "landing/products Data loaded to GCP Bucket Successfully!\n",
      "landing/categories Data loaded to GCP Bucket Successfully!\n",
      "landing/departments Data loaded to GCP Bucket Successfully!\n"
     ]
    }
   ],
   "source": [
    "#load GCP cloud\n",
    "load.load_gcp_bucket(customers_df  , 'dep-etl-source-objects', 'landing/customers')\n",
    "load.load_gcp_bucket(orders_df     , 'dep-etl-source-objects', 'landing/orders')\n",
    "load.load_gcp_bucket(order_items_df, 'dep-etl-source-objects', 'landing/order_items')\n",
    "load.load_gcp_bucket(products_df   , 'dep-etl-source-objects', 'landing/products')\n",
    "load.load_gcp_bucket(categories_df , 'dep-etl-source-objects', 'landing/categories')\n",
    "load.load_gcp_bucket(departments_df, 'dep-etl-source-objects', 'landing/departments')"
   ]
  },
  {
   "cell_type": "code",
   "execution_count": 17,
   "id": "634a653f-aae6-43f2-9ed8-7e30975fb67a",
   "metadata": {
    "tags": []
   },
   "outputs": [],
   "source": [
    "#load to Azure adls landing zone\n",
    "# load.load_azure_storage(customers_df, 'landing', 'customers')\n",
    "# load.load_azure_storage(orders_df, 'landing', 'orders')\n",
    "# load.load_azure_storage(order_items_df, 'landing', 'order_items')\n",
    "# load.load_azure_storage(products_df, 'landing', 'products')\n",
    "# load.load_azure_storage(categories_df, 'landing', 'categories')\n",
    "# load.load_azure_storage(departments_df, 'landing', 'departments')"
   ]
  }
 ],
 "metadata": {
  "kernelspec": {
   "display_name": "Python 3 (ipykernel)",
   "language": "python",
   "name": "python3"
  },
  "language_info": {
   "codemirror_mode": {
    "name": "ipython",
    "version": 3
   },
   "file_extension": ".py",
   "mimetype": "text/x-python",
   "name": "python",
   "nbconvert_exporter": "python",
   "pygments_lexer": "ipython3",
   "version": "3.9.16"
  }
 },
 "nbformat": 4,
 "nbformat_minor": 5
}
