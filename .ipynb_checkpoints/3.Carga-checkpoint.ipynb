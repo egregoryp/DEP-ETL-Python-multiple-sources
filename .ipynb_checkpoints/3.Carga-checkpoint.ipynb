{
 "cells": [
  {
   "cell_type": "code",
   "execution_count": 1,
   "id": "8e70e5e6-015e-48da-8750-35d3ca1da92a",
   "metadata": {
    "tags": []
   },
   "outputs": [],
   "source": [
    "from process.Extract import Extract\n",
    "# from process.Transform import Transform\n",
    "from process.Load import Load\n",
    "import pandas as pd"
   ]
  },
  {
   "cell_type": "code",
   "execution_count": 2,
   "id": "fde21d95-abca-4138-b755-d03353ef4a84",
   "metadata": {
    "tags": []
   },
   "outputs": [
    {
     "name": "stdout",
     "output_type": "stream",
     "text": [
      "Extract Process\n",
      "Load Process\n"
     ]
    }
   ],
   "source": [
    "extract = Extract()\n",
    "# transform = Transform()\n",
    "load = Load()"
   ]
  },
  {
   "cell_type": "code",
   "execution_count": 3,
   "id": "5ed797c2-4767-40e7-a417-95a32ee24655",
   "metadata": {
    "tags": []
   },
   "outputs": [],
   "source": [
    "#from GCP\n",
    "q1_df = extract.read_gcp_bucket('dep-etl-source-objects', 'gold/enunciado1')\n",
    "q2_df = extract.read_gcp_bucket('dep-etl-source-objects', 'gold/enunciado2')\n",
    "q3_df = extract.read_gcp_bucket('dep-etl-source-objects', 'gold/enunciado3')\n",
    "q4_df = extract.read_gcp_bucket('dep-etl-source-objects', 'gold/enunciado4')\n",
    "q5_df = extract.read_gcp_bucket('dep-etl-source-objects', 'gold/enunciado5')\n",
    "q6_df = extract.read_gcp_bucket('dep-etl-source-objects', 'gold/enunciado6')"
   ]
  },
  {
   "cell_type": "code",
   "execution_count": 4,
   "id": "a350fbe3-baf7-4a87-b843-0134bce582b0",
   "metadata": {
    "tags": []
   },
   "outputs": [],
   "source": [
    "#q1_df.head()"
   ]
  },
  {
   "cell_type": "code",
   "execution_count": 5,
   "id": "9469fee6-445e-43e0-95ac-49d342d94efb",
   "metadata": {
    "tags": []
   },
   "outputs": [
    {
     "name": "stdout",
     "output_type": "stream",
     "text": [
      "Table enunciado1 loaded succesfully!\n",
      "Table enunciado2 loaded succesfully!\n",
      "Table enunciado3 loaded succesfully!\n",
      "Table enunciado4 loaded succesfully!\n",
      "Table enunciado5 loaded succesfully!\n",
      "Table enunciado6 loaded succesfully!\n"
     ]
    }
   ],
   "source": [
    "#load to DB DWH mySQL\n",
    "load.df_to_sql(q1_df, 'mysql', 'retail_db', 'enunciado1')\n",
    "load.df_to_sql(q1_df, 'mysql', 'retail_dw', 'enunciado1')\n",
    "load.df_to_sql(q2_df, 'mysql', 'retail_dw', 'enunciado2')\n",
    "load.df_to_sql(q3_df, 'mysql', 'retail_dw', 'enunciado3')\n",
    "load.df_to_sql(q4_df, 'mysql', 'retail_dw', 'enunciado4')\n",
    "load.df_to_sql(q5_df, 'mysql', 'retail_dw', 'enunciado5')\n",
    "load.df_to_sql(q6_df, 'mysql', 'retail_dw', 'enunciado6')\n",
    "\n",
    "#load to DB DWH Azure SQL Server - Must Have ODBC driver\n",
    "# load.df_to_sql(q1_df, 'sqlserver', 'test_db', 'enunciado1')\n",
    "# load.df_to_sql(q2_df, 'sqlserver', 'test_db', 'enunciado2')\n",
    "# load.df_to_sql(q3_df, 'sqlserver', 'test_db', 'enunciado3')\n",
    "# load.df_to_sql(q4_df, 'sqlserver', 'test_db', 'enunciado4')\n",
    "# load.df_to_sql(q5_df, 'sqlserver', 'test_db', 'enunciado5')\n",
    "# load.df_to_sql(q6_df, 'sqlserver', 'test_db', 'enunciado6')"
   ]
  },
  {
   "cell_type": "code",
   "execution_count": null,
   "id": "ff5257f0-18a4-431b-b378-90d1a9f72bd1",
   "metadata": {},
   "outputs": [],
   "source": []
  }
 ],
 "metadata": {
  "kernelspec": {
   "display_name": "Python 3 (ipykernel)",
   "language": "python",
   "name": "python3"
  },
  "language_info": {
   "codemirror_mode": {
    "name": "ipython",
    "version": 3
   },
   "file_extension": ".py",
   "mimetype": "text/x-python",
   "name": "python",
   "nbconvert_exporter": "python",
   "pygments_lexer": "ipython3",
   "version": "3.9.16"
  }
 },
 "nbformat": 4,
 "nbformat_minor": 5
}
